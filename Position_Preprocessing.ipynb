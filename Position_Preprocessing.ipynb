{
 "cells": [
  {
   "cell_type": "markdown",
   "metadata": {},
   "source": [
    "## Install Required Packages"
   ]
  },
  {
   "cell_type": "code",
   "execution_count": 10,
   "metadata": {},
   "outputs": [
    {
     "name": "stdout",
     "output_type": "stream",
     "text": [
      "Requirement already satisfied: numpy in /Users/christinahahn/anaconda3/envs/neural/lib/python3.11/site-packages (1.23.5)\n",
      "Requirement already satisfied: scipy in /Users/christinahahn/anaconda3/envs/neural/lib/python3.11/site-packages (1.10.0)\n",
      "Requirement already satisfied: numpy<1.27.0,>=1.19.5 in /Users/christinahahn/anaconda3/envs/neural/lib/python3.11/site-packages (from scipy) (1.23.5)\n",
      "Requirement already satisfied: keras in /Users/christinahahn/anaconda3/envs/neural/lib/python3.11/site-packages (2.12.0)\n"
     ]
    }
   ],
   "source": [
    "%%bash\n",
    "pip install numpy\n",
    "pip install scipy\n",
    "pip install keras"
   ]
  },
  {
   "cell_type": "markdown",
   "metadata": {},
   "source": [
    "## Imports"
   ]
  },
  {
   "cell_type": "code",
   "execution_count": 11,
   "metadata": {},
   "outputs": [],
   "source": [
    "import numpy as np\n",
    "from scipy import io\n",
    "import os\n",
    "import pickle\n",
    "\n",
    "# Preprocessing code provided by the Kording Lab\n",
    "from Neural_Decoding.preprocessing_funcs import bin_spikes\n",
    "from Neural_Decoding.preprocessing_funcs import bin_output"
   ]
  },
  {
   "cell_type": "markdown",
   "metadata": {},
   "source": [
    "## User Inputs (Modify as Necessary)"
   ]
  },
  {
   "cell_type": "code",
   "execution_count": 12,
   "metadata": {},
   "outputs": [],
   "source": [
    "mat_dir = \"Data_Formatted\" # Name of directory storing the .mat structs\n",
    "binned_dir = \"Data_Binned\" # Name of directory that will store binned results\n",
    "\n",
    "dt = 0.05 # Size of time bins"
   ]
  },
  {
   "cell_type": "markdown",
   "metadata": {},
   "source": [
    "## Preprocessing"
   ]
  },
  {
   "cell_type": "code",
   "execution_count": 13,
   "metadata": {},
   "outputs": [
    {
     "name": "stdout",
     "output_type": "stream",
     "text": [
      "YeCon_S1F_Anterior.mat\n",
      "YeCon_M1U_Intermediate.mat\n",
      "RyCon_S1U_Posterior.mat\n",
      "YeCon_M1U_Deep.mat\n",
      "YeCon_S1U_Deep.mat\n",
      "Br_M1U_Intermediate.mat\n",
      "RyNb_S1F_Anterior.mat\n",
      "Br_PFU_Intermediate.mat\n",
      "RyCon_M1F_Deep.mat\n",
      "Br_PFU_Anterior.mat\n",
      "YeNb_S1F_Posterior.mat\n",
      "RyNb_S1U_Intermediate.mat\n",
      "RyCon_S1F_Deep.mat\n",
      "RyCon_M1F_Superficial.mat\n",
      "YeNb_S1F_Anterior.mat\n",
      "RyNb_S1F_Posterior.mat\n",
      "Br_CSF_Superficial.mat\n",
      "YeNb_S1F_Intermediate.mat\n",
      "RyCon_S1F_Superficial.mat\n",
      "RyCon_S1F_Anterior.mat\n",
      "RyNb_S1U_Superficial.mat\n",
      "RyNb_M1U_Superficial.mat\n",
      "YeCon_S1U_Posterior.mat\n",
      "RyCon_S1F_Intermediate.mat\n",
      "Br_M1U_Posterior.mat\n",
      "YeCon_S1F_Deep.mat\n",
      "YeCon_S1U_Anterior.mat\n",
      "Br_M1U_Deep.mat\n",
      "YeCon_M1F_Deep.mat\n",
      "Br_S1U_Deep.mat\n",
      "RyCon_M1F_Posterior.mat\n",
      "YeCon_S1F_Intermediate.mat\n",
      "RyNb_M1F_Intermediate.mat\n",
      "RyCon_S1U_Deep.mat\n",
      "RyNb_S1U_Anterior.mat\n",
      "Br_M1U_Anterior.mat\n",
      "YeNb_M1U_Posterior.mat\n",
      "RyCon_M1U_Deep.mat\n",
      "YeNb_S1U_Anterior.mat\n",
      "RyNb_S1F_Superficial.mat\n",
      "RyNb_M1F_Superficial.mat\n",
      "YeNb_M1U_Intermediate.mat\n",
      "RyNb_M1U_Posterior.mat\n",
      "RyCon_M1U_Intermediate.mat\n",
      "RyCon_M1U_Superficial.mat\n",
      "RyCon_S1U_Anterior.mat\n",
      "YeCon_M1F_Posterior.mat\n",
      "RyCon_S1U_Superficial.mat\n",
      "YeNb_M1U_Deep.mat\n",
      "YeNb_M1F_Intermediate.mat\n",
      "RyCon_M1U_Posterior.mat\n",
      "YeCon_M1F_Anterior.mat\n",
      "YeNb_S1U_Deep.mat\n",
      "YeNb_S1U_Superficial.mat\n",
      "YeNb_M1F_Posterior.mat\n",
      "Br_PFU_Deep.mat\n",
      "RyNb_M1F_Anterior.mat\n",
      "RyCon_M1F_Intermediate.mat\n",
      "YeNb_M1U_Superficial.mat\n",
      "YeCon_S1U_Intermediate.mat\n",
      "RyNb_M1F_Posterior.mat\n",
      "Br_PFU_Posterior.mat\n",
      "YeCon_M1U_Superficial.mat\n",
      "YeCon_S1U_Superficial.mat\n",
      "Br_CSF_Anterior.mat\n",
      "Br_S1U_Intermediate.mat\n",
      "YeNb_M1F_Anterior.mat\n",
      "RyNb_S1F_Deep.mat\n",
      "Br_S1U_Posterior.mat\n",
      "RyCon_M1F_Anterior.mat\n",
      "YeCon_M1U_Posterior.mat\n",
      "RyNb_M1F_Deep.mat\n",
      "RyNb_M1U_Intermediate.mat\n",
      "YeNb_S1F_Deep.mat\n",
      "YeNb_S1F_Superficial.mat\n",
      "YeNb_M1F_Superficial.mat\n",
      "YeNb_S1U_Intermediate.mat\n",
      "YeCon_M1U_Anterior.mat\n",
      "YeNb_M1F_Deep.mat\n",
      "RyCon_S1F_Posterior.mat\n",
      "Br_CSF_Deep.mat\n",
      "Br_M1U_Superficial.mat\n",
      "RyCon_S1U_Intermediate.mat\n",
      "YeNb_S1U_Posterior.mat\n",
      "Br_S1U_Superficial.mat\n",
      "Br_S1U_Anterior.mat\n",
      "RyNb_M1U_Anterior.mat\n",
      "Br_CSF_Intermediate.mat\n",
      "RyNb_S1U_Posterior.mat\n",
      "YeNb_M1U_Anterior.mat\n",
      "YeCon_M1F_Intermediate.mat\n",
      "YeCon_M1F_Superficial.mat\n",
      "YeCon_S1F_Posterior.mat\n",
      "RyNb_S1F_Intermediate.mat\n",
      "Br_CSF_Posterior.mat\n",
      "Br_PFU_Superficial.mat\n",
      "RyNb_M1U_Deep.mat\n",
      "RyNb_S1U_Deep.mat\n",
      "RyCon_M1U_Anterior.mat\n",
      "YeCon_S1F_Superficial.mat\n"
     ]
    }
   ],
   "source": [
    "# Get all .mat files\n",
    "parent_dir = os.path.dirname(os.path.abspath(\"__file__\"))\n",
    "data_dir = os.path.join(parent_dir, mat_dir)\n",
    "files = next(os.walk(data_dir))[2]\n",
    "\n",
    "# Create directory to store binned results\n",
    "results_dir = os.path.join(parent_dir, binned_dir)\n",
    "if not os.path.exists(results_dir):\n",
    "    os.mkdir(results_dir)\n",
    "\n",
    "for f in files:\n",
    "    print(f)\n",
    "    if \".mat\" not in f:\n",
    "        continue\n",
    "\n",
    "    # Load .mat file\n",
    "    data = io.loadmat(data_dir + \"/\" + f)\n",
    "\n",
    "    # Get neural data, direction data, and marker names\n",
    "    spike_times = data['spikes']\n",
    "    outputs = data['outputs']\n",
    "    output_times = data['output_times']\n",
    "    markers = data['markers']\n",
    "    if markers.shape[1] != 1:\n",
    "        markers = markers.T\n",
    "\n",
    "    # Squeeze neural data\n",
    "    spike_times = np.squeeze(spike_times, axis=1)\n",
    "    \n",
    "    t_start = output_times[0] # Time to start extracting data - here we just start at the beginning\n",
    "    t_end = output_times[-1] # Time to stop extracting data - here we just stop at the end\n",
    "    df = 1 # Downsampling of output (to make binning go faster) - 1 means no downsampling\n",
    "\n",
    "    # Binning\n",
    "    spikes_binned = bin_spikes(spike_times, dt, t_start, t_end)\n",
    "    directions_binned = bin_output(outputs, output_times, dt, t_start, t_end, df)\n",
    "    \n",
    "    # Save results \n",
    "    res_filename = f.split(\".\")[0] + \".pickle\"\n",
    "    with open(os.path.join(results_dir, res_filename), \"wb\") as res:\n",
    "        pickle.dump([spikes_binned, directions_binned, markers], res)"
   ]
  }
 ],
 "metadata": {
  "kernelspec": {
   "display_name": "neural",
   "language": "python",
   "name": "python3"
  },
  "language_info": {
   "codemirror_mode": {
    "name": "ipython",
    "version": 3
   },
   "file_extension": ".py",
   "mimetype": "text/x-python",
   "name": "python",
   "nbconvert_exporter": "python",
   "pygments_lexer": "ipython3",
   "version": "3.11.5"
  }
 },
 "nbformat": 4,
 "nbformat_minor": 2
}
